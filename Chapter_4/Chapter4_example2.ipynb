{
 "cells": [
  {
   "cell_type": "markdown",
   "id": "016dd49f",
   "metadata": {},
   "source": [
    "# 캐글 신용 카드 사기 검출"
   ]
  },
  {
   "cell_type": "code",
   "execution_count": null,
   "id": "c767fd08",
   "metadata": {},
   "outputs": [],
   "source": []
  }
 ],
 "metadata": {
  "kernelspec": {
   "display_name": "machine_learning",
   "language": "python",
   "name": "machine_learning"
  },
  "language_info": {
   "codemirror_mode": {
    "name": "ipython",
    "version": 3
   },
   "file_extension": ".py",
   "mimetype": "text/x-python",
   "name": "python",
   "nbconvert_exporter": "python",
   "pygments_lexer": "ipython3",
   "version": "3.8.9"
  }
 },
 "nbformat": 4,
 "nbformat_minor": 5
}
