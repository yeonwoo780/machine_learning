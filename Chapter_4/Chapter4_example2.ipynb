{
 "cells": [
  {
   "cell_type": "markdown",
   "id": "2dbb6275",
   "metadata": {},
   "source": [
    "# 캐글 신용 카드 사기 검출"
   ]
  },
  {
   "cell_type": "markdown",
   "id": "05a3d524",
   "metadata": {},
   "source": [
    "## 언더샘플링과 오버 샘플링"
   ]
  },
  {
   "cell_type": "markdown",
   "id": "d66c6d48",
   "metadata": {},
   "source": [
    "### 언더 샘플링"
   ]
  },
  {
   "cell_type": "markdown",
   "id": "33d0d534",
   "metadata": {},
   "source": [
    "- 많은 데이터 세트를 적은 데이터 세트 수준으로 감소시키는 방식<br><br>\n",
    "\n",
    "- 즉, 정상 레이블을 가진 데이터가 10000건, 이상 레이블을 가진 데이터가 100건이면 정상 데이터를 100건으로 줄이는 방식<br><br>\n",
    "\n",
    "- 정상 레이블을 제대로 학습하지못하는 단점있음."
   ]
  },
  {
   "cell_type": "markdown",
   "id": "e5ff1f24",
   "metadata": {},
   "source": [
    "### 오버 샘플링"
   ]
  },
  {
   "cell_type": "markdown",
   "id": "23073846",
   "metadata": {},
   "source": [
    "- 이상 데이터와 같이 적은 데이터 세트 증식하여 학습을 위한 충분한 데이터 확보하는 방법.<br><br>\n",
    "\n",
    "- 동일한 데이터를 단순히 증식하는 방법은 과적합(Overfiting)이 되기 때문에 의미가 없으므로 원본 데이터의 피처 값들을 아주 약간만 변경하여 증식한다.<br><br>\n",
    "\n",
    "- 대표적인 방법으론 SMOTE방법이 있다."
   ]
  },
  {
   "cell_type": "markdown",
   "id": "cf9e12ad",
   "metadata": {},
   "source": [
    "- SMOTE방법이란 적은 데이터 세트에 있는 개별 데이터들의 K최근접 이웃(K Nearest Neighbor)를 찾아서 이 데이터와 K개 이웃들의 차이를 일정 값으로 만들어 기존 데이터와 약간 차이가 나는 새로운 데이터 생성하는 방식"
   ]
  },
  {
   "cell_type": "code",
   "execution_count": 1,
   "id": "172b6aeb",
   "metadata": {},
   "outputs": [
    {
     "data": {
      "text/html": [
       "<div>\n",
       "<style scoped>\n",
       "    .dataframe tbody tr th:only-of-type {\n",
       "        vertical-align: middle;\n",
       "    }\n",
       "\n",
       "    .dataframe tbody tr th {\n",
       "        vertical-align: top;\n",
       "    }\n",
       "\n",
       "    .dataframe thead th {\n",
       "        text-align: right;\n",
       "    }\n",
       "</style>\n",
       "<table border=\"1\" class=\"dataframe\">\n",
       "  <thead>\n",
       "    <tr style=\"text-align: right;\">\n",
       "      <th></th>\n",
       "      <th>Time</th>\n",
       "      <th>V1</th>\n",
       "      <th>V2</th>\n",
       "      <th>V3</th>\n",
       "      <th>V4</th>\n",
       "      <th>V5</th>\n",
       "      <th>V6</th>\n",
       "      <th>V7</th>\n",
       "      <th>V8</th>\n",
       "      <th>V9</th>\n",
       "      <th>...</th>\n",
       "      <th>V21</th>\n",
       "      <th>V22</th>\n",
       "      <th>V23</th>\n",
       "      <th>V24</th>\n",
       "      <th>V25</th>\n",
       "      <th>V26</th>\n",
       "      <th>V27</th>\n",
       "      <th>V28</th>\n",
       "      <th>Amount</th>\n",
       "      <th>Class</th>\n",
       "    </tr>\n",
       "  </thead>\n",
       "  <tbody>\n",
       "    <tr>\n",
       "      <th>0</th>\n",
       "      <td>0.0</td>\n",
       "      <td>-1.359807</td>\n",
       "      <td>-0.072781</td>\n",
       "      <td>2.536347</td>\n",
       "      <td>1.378155</td>\n",
       "      <td>-0.338321</td>\n",
       "      <td>0.462388</td>\n",
       "      <td>0.239599</td>\n",
       "      <td>0.098698</td>\n",
       "      <td>0.363787</td>\n",
       "      <td>...</td>\n",
       "      <td>-0.018307</td>\n",
       "      <td>0.277838</td>\n",
       "      <td>-0.110474</td>\n",
       "      <td>0.066928</td>\n",
       "      <td>0.128539</td>\n",
       "      <td>-0.189115</td>\n",
       "      <td>0.133558</td>\n",
       "      <td>-0.021053</td>\n",
       "      <td>149.62</td>\n",
       "      <td>0</td>\n",
       "    </tr>\n",
       "    <tr>\n",
       "      <th>1</th>\n",
       "      <td>0.0</td>\n",
       "      <td>1.191857</td>\n",
       "      <td>0.266151</td>\n",
       "      <td>0.166480</td>\n",
       "      <td>0.448154</td>\n",
       "      <td>0.060018</td>\n",
       "      <td>-0.082361</td>\n",
       "      <td>-0.078803</td>\n",
       "      <td>0.085102</td>\n",
       "      <td>-0.255425</td>\n",
       "      <td>...</td>\n",
       "      <td>-0.225775</td>\n",
       "      <td>-0.638672</td>\n",
       "      <td>0.101288</td>\n",
       "      <td>-0.339846</td>\n",
       "      <td>0.167170</td>\n",
       "      <td>0.125895</td>\n",
       "      <td>-0.008983</td>\n",
       "      <td>0.014724</td>\n",
       "      <td>2.69</td>\n",
       "      <td>0</td>\n",
       "    </tr>\n",
       "    <tr>\n",
       "      <th>2</th>\n",
       "      <td>1.0</td>\n",
       "      <td>-1.358354</td>\n",
       "      <td>-1.340163</td>\n",
       "      <td>1.773209</td>\n",
       "      <td>0.379780</td>\n",
       "      <td>-0.503198</td>\n",
       "      <td>1.800499</td>\n",
       "      <td>0.791461</td>\n",
       "      <td>0.247676</td>\n",
       "      <td>-1.514654</td>\n",
       "      <td>...</td>\n",
       "      <td>0.247998</td>\n",
       "      <td>0.771679</td>\n",
       "      <td>0.909412</td>\n",
       "      <td>-0.689281</td>\n",
       "      <td>-0.327642</td>\n",
       "      <td>-0.139097</td>\n",
       "      <td>-0.055353</td>\n",
       "      <td>-0.059752</td>\n",
       "      <td>378.66</td>\n",
       "      <td>0</td>\n",
       "    </tr>\n",
       "  </tbody>\n",
       "</table>\n",
       "<p>3 rows × 31 columns</p>\n",
       "</div>"
      ],
      "text/plain": [
       "   Time        V1        V2        V3        V4        V5        V6        V7  \\\n",
       "0   0.0 -1.359807 -0.072781  2.536347  1.378155 -0.338321  0.462388  0.239599   \n",
       "1   0.0  1.191857  0.266151  0.166480  0.448154  0.060018 -0.082361 -0.078803   \n",
       "2   1.0 -1.358354 -1.340163  1.773209  0.379780 -0.503198  1.800499  0.791461   \n",
       "\n",
       "         V8        V9  ...       V21       V22       V23       V24       V25  \\\n",
       "0  0.098698  0.363787  ... -0.018307  0.277838 -0.110474  0.066928  0.128539   \n",
       "1  0.085102 -0.255425  ... -0.225775 -0.638672  0.101288 -0.339846  0.167170   \n",
       "2  0.247676 -1.514654  ...  0.247998  0.771679  0.909412 -0.689281 -0.327642   \n",
       "\n",
       "        V26       V27       V28  Amount  Class  \n",
       "0 -0.189115  0.133558 -0.021053  149.62      0  \n",
       "1  0.125895 -0.008983  0.014724    2.69      0  \n",
       "2 -0.139097 -0.055353 -0.059752  378.66      0  \n",
       "\n",
       "[3 rows x 31 columns]"
      ]
     },
     "execution_count": 1,
     "metadata": {},
     "output_type": "execute_result"
    }
   ],
   "source": [
    "import pandas as pd\n",
    "import numpy as np\n",
    "import matplotlib.pyplot as plt\n",
    "import warnings\n",
    "warnings.filterwarnings(\"ignore\")\n",
    "%matplotlib inline\n",
    "\n",
    "card_df = pd.read_csv('../datasets/creditcard.csv')\n",
    "card_df.head(3)"
   ]
  },
  {
   "cell_type": "markdown",
   "id": "cffb9e1e",
   "metadata": {},
   "source": [
    "#### 필요없는 Time함수 삭제"
   ]
  },
  {
   "cell_type": "code",
   "execution_count": 2,
   "id": "8a0fdc5e",
   "metadata": {},
   "outputs": [],
   "source": [
    "def get_preprocessed_df(df=None):\n",
    "    df_copy = df.copy()\n",
    "    df_copy.drop(\"Time\", axis=1, inplace = True)\n",
    "    return df_copy"
   ]
  },
  {
   "cell_type": "code",
   "execution_count": 3,
   "id": "709cedb6",
   "metadata": {},
   "outputs": [],
   "source": [
    "from sklearn.model_selection import train_test_split\n",
    "\n",
    "def get_train_test_dataset(df=None):\n",
    "    df_copy = get_preprocessed_df(df)\n",
    "    \n",
    "    X_features = df_copy.iloc[:, :-1]\n",
    "    y_target = df_copy.iloc[:, -1]\n",
    "    \n",
    "    X_train, X_test, y_train, y_test = train_test_split(X_features, y_target,\n",
    "                                                        test_size = 0.3,\n",
    "                                                        random_state = 0,\n",
    "                                                        stratify = y_target)\n",
    "    \n",
    "    return X_train, X_test, y_train, y_test"
   ]
  },
  {
   "cell_type": "code",
   "execution_count": 4,
   "id": "4356aa35",
   "metadata": {},
   "outputs": [],
   "source": [
    "X_train, X_test, y_train, y_test = get_train_test_dataset(card_df)"
   ]
  },
  {
   "cell_type": "code",
   "execution_count": 5,
   "id": "86b81789",
   "metadata": {},
   "outputs": [
    {
     "name": "stdout",
     "output_type": "stream",
     "text": [
      "학습 데이터 레이블 값 비율\n",
      "0    99.827451\n",
      "1     0.172549\n",
      "Name: Class, dtype: float64\n",
      "\n",
      "테스트 데이터 레이블 값 비율\n",
      "0    99.826785\n",
      "1     0.173215\n",
      "Name: Class, dtype: float64\n"
     ]
    }
   ],
   "source": [
    "print(\"학습 데이터 레이블 값 비율\")\n",
    "print(y_train.value_counts()/y_train.shape[0] * 100)\n",
    "\n",
    "print()\n",
    "print(\"테스트 데이터 레이블 값 비율\")\n",
    "print(y_test.value_counts()/y_test.shape[0] * 100)"
   ]
  },
  {
   "cell_type": "code",
   "execution_count": 6,
   "id": "2cfc058c",
   "metadata": {},
   "outputs": [],
   "source": [
    "from sklearn.metrics import accuracy_score, precision_score, recall_score, confusion_matrix,f1_score, roc_auc_score\n",
    "import numpy as np\n",
    "\n",
    "def get_clf_eval(y_test, pred = None, pred_proba = None):\n",
    "    confusion = confusion_matrix(y_test, pred)\n",
    "    accuracy = accuracy_score(y_test, pred)\n",
    "    precision = precision_score(y_test, pred)\n",
    "    recall = recall_score(y_test, pred)\n",
    "    \n",
    "    # f1 score 추가\n",
    "    f1score = f1_score(y_test, pred)\n",
    "    \n",
    "    # ROC-AUC 추가\n",
    "    roc_auc = roc_auc_score(y_test, pred_proba)\n",
    "    print(\"오차행렬\")\n",
    "    print(confusion)\n",
    "    print('정확도(Accuracy): {0:.4f}, 정밀도(precision): {1:.4f}, 재현율(recall): {2:.4f}, F1(F1_score):{3:.4f}, ROC-AUC: {4:.4f}'.format(\n",
    "        accuracy, precision, recall, f1score, roc_auc))\n",
    "    "
   ]
  },
  {
   "cell_type": "markdown",
   "id": "7863ade7",
   "metadata": {},
   "source": [
    "### 테스트 데이터로 학습"
   ]
  },
  {
   "cell_type": "code",
   "execution_count": 7,
   "id": "a733bbf3",
   "metadata": {},
   "outputs": [
    {
     "name": "stdout",
     "output_type": "stream",
     "text": [
      "오차행렬\n",
      "[[85283    12]\n",
      " [   57    91]]\n",
      "정확도(Accuracy): 0.9992, 정밀도(precision): 0.8835, 재현율(recall): 0.6149, F1(F1_score):0.7251, ROC-AUC: 0.9602\n"
     ]
    }
   ],
   "source": [
    "from sklearn.linear_model import LogisticRegression\n",
    "\n",
    "lr_clf = LogisticRegression()\n",
    "lr_clf.fit(X_train, y_train)\n",
    "lr_pred = lr_clf.predict(X_test)\n",
    "lr_pred_proba = lr_clf.predict_proba(X_test)[:, 1]\n",
    "\n",
    "get_clf_eval(y_test, lr_pred, lr_pred_proba)"
   ]
  },
  {
   "cell_type": "markdown",
   "id": "f0dbd384",
   "metadata": {},
   "source": [
    "### LightGBM이용"
   ]
  },
  {
   "cell_type": "code",
   "execution_count": 8,
   "id": "9fd87808",
   "metadata": {},
   "outputs": [],
   "source": [
    "def get_model_train_eval(model, feature_train = None, feature_test = None, target_train = None, target_test = None):\n",
    "    model.fit(feature_train, target_train)\n",
    "    pred = model.predict(feature_test)\n",
    "    pred_proba = model.predict_proba(feature_test)[:, 1]\n",
    "    \n",
    "    get_clf_eval(target_test, pred, pred_proba)"
   ]
  },
  {
   "cell_type": "code",
   "execution_count": 9,
   "id": "dcb07875",
   "metadata": {},
   "outputs": [
    {
     "name": "stdout",
     "output_type": "stream",
     "text": [
      "오차행렬\n",
      "[[85290     5]\n",
      " [   36   112]]\n",
      "정확도(Accuracy): 0.9995, 정밀도(precision): 0.9573, 재현율(recall): 0.7568, F1(F1_score):0.8453, ROC-AUC: 0.9790\n"
     ]
    }
   ],
   "source": [
    "from lightgbm import LGBMClassifier\n",
    "\n",
    "# 불균형한 데이터 분포 가지고 있어 boost_from_average = False 해줘야함\n",
    "lgbm_clf = LGBMClassifier(n_estimators = 1000, num_leaves = 64, \n",
    "                          n_jobs = -1, boost_from_average = False)\n",
    "\n",
    "get_model_train_eval(lgbm_clf, feature_train = X_train, feature_test = X_test,\n",
    "                     target_train = y_train, target_test = y_test)"
   ]
  },
  {
   "cell_type": "markdown",
   "id": "9e5c9bc3",
   "metadata": {},
   "source": [
    "- 재현율과 ROC-AUC 상승"
   ]
  },
  {
   "cell_type": "markdown",
   "id": "930f22c4",
   "metadata": {},
   "source": [
    "### 데이터 분포도 변환 후 모델 학습/예측/평가"
   ]
  },
  {
   "cell_type": "code",
   "execution_count": 10,
   "id": "c7fbf64a",
   "metadata": {},
   "outputs": [
    {
     "data": {
      "text/plain": [
       "<AxesSubplot:xlabel='Amount', ylabel='Density'>"
      ]
     },
     "execution_count": 10,
     "metadata": {},
     "output_type": "execute_result"
    },
    {
     "data": {
      "image/png": "[encoded data removed]",
      "text/plain": [
       "<Figure size 576x288 with 1 Axes>"
      ]
     },
     "metadata": {
      "needs_background": "light"
     },
     "output_type": "display_data"
    }
   ],
   "source": [
    "import seaborn as sns\n",
    "plt.figure(figsize = (8, 4))\n",
    "plt.xticks(range(0, 30000, 1000), rotation = 60)\n",
    "sns.distplot(card_df['Amount'])"
   ]
  },
  {
   "cell_type": "markdown",
   "id": "df2e67ce",
   "metadata": {},
   "source": [
    "- 1000불 이하인 데이터가 대부분. 27000까지 데이터 존재"
   ]
  },
  {
   "cell_type": "markdown",
   "id": "eb7c832f",
   "metadata": {},
   "source": [
    "#### 표준정규분포 전처리"
   ]
  },
  {
   "cell_type": "code",
   "execution_count": 11,
   "id": "8c86c716",
   "metadata": {},
   "outputs": [],
   "source": [
    "from sklearn.preprocessing import StandardScaler\n",
    "\n",
    "def get_preprocessed_df(df=None):\n",
    "    df_copy = df.copy()\n",
    "    scaler = StandardScaler()\n",
    "    amount_n = scaler.fit_transform(df_copy['Amount'].values.reshape(-1, 1))\n",
    "    \n",
    "    # 변환된 Amount를 Amount_Scaled로 피쳐명 변경후 dataframe맨 앞 칼럼으로 입력\n",
    "    df_copy.insert(0, 'Amount_Scaled', amount_n)\n",
    "    \n",
    "    df_copy.drop(['Time', 'Amount'], axis = 1, inplace = True)\n",
    "    return df_copy"
   ]
  },
  {
   "cell_type": "markdown",
   "id": "41706234",
   "metadata": {},
   "source": [
    "### 성능비교"
   ]
  },
  {
   "cell_type": "code",
   "execution_count": 12,
   "id": "dd218843",
   "metadata": {},
   "outputs": [
    {
     "name": "stdout",
     "output_type": "stream",
     "text": [
      "### 로지스틱 회귀 예측 성능 ###\n",
      "오차행렬\n",
      "[[85281    14]\n",
      " [   58    90]]\n",
      "정확도(Accuracy): 0.9992, 정밀도(precision): 0.8654, 재현율(recall): 0.6081, F1(F1_score):0.7143, ROC-AUC: 0.9702\n",
      "\n",
      "### LightGBM 예측 성능 ###\n",
      "오차행렬\n",
      "[[85290     5]\n",
      " [   37   111]]\n",
      "정확도(Accuracy): 0.9995, 정밀도(precision): 0.9569, 재현율(recall): 0.7500, F1(F1_score):0.8409, ROC-AUC: 0.9779\n"
     ]
    }
   ],
   "source": [
    "from lightgbm import LGBMClassifier\n",
    "X_train, X_test, y_train, y_test = get_train_test_dataset(card_df)\n",
    "\n",
    "print(\"### 로지스틱 회귀 예측 성능 ###\")\n",
    "lr_clf = LogisticRegression()\n",
    "get_model_train_eval(lr_clf, feature_train=X_train, feature_test=X_test, target_train=y_train, target_test=y_test)\n",
    "\n",
    "print()\n",
    "print(\"### LightGBM 예측 성능 ###\")\n",
    "lgbm_clf = LGBMClassifier(n_estimators=1000, num_leaves=64, n_jobs=-1, boost_from_average = False)\n",
    "get_model_train_eval(lgbm_clf, feature_train=X_train, feature_test=X_test, target_train=y_train, target_test=y_test)\n"
   ]
  },
  {
   "cell_type": "markdown",
   "id": "01869174",
   "metadata": {},
   "source": [
    "### 로그변환 이용 전처리"
   ]
  },
  {
   "cell_type": "markdown",
   "id": "2b31b67a",
   "metadata": {},
   "source": [
    "- 로그 변환을 사용하면 상대적으로 작은 값으로 변환가능. 미분해주는 것과 같은 원리"
   ]
  },
  {
   "cell_type": "code",
   "execution_count": 13,
   "id": "16b74d35",
   "metadata": {},
   "outputs": [],
   "source": [
    "def get_preprocessed_df(df=None):\n",
    "    df_copy = df.copy()\n",
    "    # 넘파이의 log1p()를 이용해 Amount를 로그 변환\n",
    "    amount_n = np.log1p(df_copy['Amount'])\n",
    "    df_copy.insert(0, 'Amount_Scaled', amount_n)\n",
    "    \n",
    "    df_copy.drop(['Time', 'Amount'], axis = 1, inplace = True)\n",
    "    return df_copy"
   ]
  },
  {
   "cell_type": "code",
   "execution_count": 14,
   "id": "6eb887e6",
   "metadata": {},
   "outputs": [
    {
     "name": "stdout",
     "output_type": "stream",
     "text": [
      "### 로지스틱 회귀 예측 성능 ###\n",
      "오차행렬\n",
      "[[85283    12]\n",
      " [   59    89]]\n",
      "정확도(Accuracy): 0.9992, 정밀도(precision): 0.8812, 재현율(recall): 0.6014, F1(F1_score):0.7149, ROC-AUC: 0.9727\n",
      "\n",
      "### LightGBM 예측 성능 ###\n",
      "오차행렬\n",
      "[[85290     5]\n",
      " [   35   113]]\n",
      "정확도(Accuracy): 0.9995, 정밀도(precision): 0.9576, 재현율(recall): 0.7635, F1(F1_score):0.8496, ROC-AUC: 0.9796\n"
     ]
    }
   ],
   "source": [
    "from lightgbm import LGBMClassifier\n",
    "X_train, X_test, y_train, y_test = get_train_test_dataset(card_df)\n",
    "\n",
    "print(\"### 로지스틱 회귀 예측 성능 ###\")\n",
    "lr_clf = LogisticRegression()\n",
    "get_model_train_eval(lr_clf, feature_train=X_train, feature_test=X_test, target_train=y_train, target_test=y_test)\n",
    "\n",
    "print()\n",
    "print(\"### LightGBM 예측 성능 ###\")\n",
    "lgbm_clf = LGBMClassifier(n_estimators=1000, num_leaves=64, n_jobs=-1, boost_from_average = False)\n",
    "get_model_train_eval(lgbm_clf, feature_train=X_train, feature_test=X_test, target_train=y_train, target_test=y_test)"
   ]
  },
  {
   "cell_type": "markdown",
   "id": "f83f9d02",
   "metadata": {},
   "source": [
    "## 이상치 데이터 제거후 모델 학습/예측/평가"
   ]
  },
  {
   "cell_type": "markdown",
   "id": "1890db6f",
   "metadata": {},
   "source": [
    "- 사분위수 이용해 이상치 데이터 검출"
   ]
  },
  {
   "cell_type": "markdown",
   "id": "02e4910d",
   "metadata": {},
   "source": [
    "- IQR 방식 이용. (25% ~ 75%) 1/4 ~ 3/4 지점에 속하는 값들을 들고와서 일정 값을 주어 최대 최소 지정후 그값 이상이나 이하가 되면 이상값으로 처리"
   ]
  },
  {
   "cell_type": "markdown",
   "id": "a30ebd87",
   "metadata": {},
   "source": [
    "- 3/4 분위수에 * 1.5한게 최대값. 1/4분위수에 * 1.5한게 최솟값으로 가정. 꼭 1.5를 안써도 되나 통용되는 default값은 1.5임"
   ]
  },
  {
   "cell_type": "code",
   "execution_count": 15,
   "id": "f3b90aab",
   "metadata": {},
   "outputs": [
    {
     "data": {
      "text/plain": [
       "<AxesSubplot:>"
      ]
     },
     "execution_count": 15,
     "metadata": {},
     "output_type": "execute_result"
    },
    {
     "data": {
      "image/png": "[encoded data removed]",
      "text/plain": [
       "<Figure size 648x648 with 2 Axes>"
      ]
     },
     "metadata": {
      "needs_background": "light"
     },
     "output_type": "display_data"
    }
   ],
   "source": [
    "import seaborn as sns\n",
    "\n",
    "plt.figure(figsize = (9, 9))\n",
    "corr = card_df.corr()\n",
    "sns.heatmap(corr, cmap=\"RdBu\")"
   ]
  },
  {
   "cell_type": "markdown",
   "id": "abe347c4",
   "metadata": {},
   "source": [
    "- Class와 상관관계가 높아 보이는 피처는 V14, V17"
   ]
  },
  {
   "cell_type": "code",
   "execution_count": 16,
   "id": "5585ecdd",
   "metadata": {},
   "outputs": [],
   "source": [
    "import numpy as np\n",
    "\n",
    "def get_outlier(df=None, column=None, weight=1.5):\n",
    "    # fraud에 해당하는 column 데이터만 추출, 1/4분위와 3/4분위 지점을 np.percentile로 구한다.\n",
    "    fraud = df[df[\"Class\"] == 1][column]\n",
    "    \n",
    "    quantile_25 = np.percentile(fraud.values, 25)\n",
    "    quantile_75 = np.percentile(fraud.values, 75)\n",
    "    \n",
    "    iqr = quantile_75 - quantile_25\n",
    "    iqr_weight = iqr * weight\n",
    "    lowest_val = quantile_25 - iqr_weight\n",
    "    highest_val = quantile_75 + iqr_weight\n",
    "    \n",
    "    outlier_index = fraud[(fraud < lowest_val) | (fraud > highest_val)].index\n",
    "    return outlier_index"
   ]
  },
  {
   "cell_type": "code",
   "execution_count": 17,
   "id": "de8e11b7",
   "metadata": {},
   "outputs": [
    {
     "name": "stdout",
     "output_type": "stream",
     "text": [
      "이상치 데이터 인덱스 Int64Index([8296, 8615, 9035, 9252], dtype='int64')\n"
     ]
    }
   ],
   "source": [
    "outlier_index = get_outlier(df=card_df, column=\"V14\", weight=1.5)\n",
    "print(\"이상치 데이터 인덱스\", outlier_index)"
   ]
  },
  {
   "cell_type": "markdown",
   "id": "2c5f221f",
   "metadata": {},
   "source": [
    "### 위의 이상치 인덱스 제거후 LightGBM 적용"
   ]
  },
  {
   "cell_type": "code",
   "execution_count": 18,
   "id": "f4c84202",
   "metadata": {},
   "outputs": [],
   "source": [
    "def get_preprocessed_df(df=None):\n",
    "    df_copy = df.copy()\n",
    "    # 넘파이의 log1p()를 이용해 Amount를 로그 변환\n",
    "    amount_n = np.log1p(df_copy['Amount'])\n",
    "    df_copy.insert(0, 'Amount_Scaled', amount_n)\n",
    "    \n",
    "    df_copy.drop(['Time', 'Amount'], axis = 1, inplace = True)\n",
    "    \n",
    "    # 이상치 데이터 삭제\n",
    "    outlier_index = get_outlier(df = df_copy, column = 'V14', weight = 1.5)\n",
    "    df_copy.drop(outlier_index, axis = 0, inplace=True)\n",
    "    return df_copy"
   ]
  },
  {
   "cell_type": "code",
   "execution_count": 19,
   "id": "f0c3a37b",
   "metadata": {},
   "outputs": [
    {
     "name": "stdout",
     "output_type": "stream",
     "text": [
      "### 로지스틱 회귀 예측 성능 ###\n",
      "오차행렬\n",
      "[[85281    14]\n",
      " [   48    98]]\n",
      "정확도(Accuracy): 0.9993, 정밀도(precision): 0.8750, 재현율(recall): 0.6712, F1(F1_score):0.7597, ROC-AUC: 0.9743\n",
      "\n",
      "### LightGBM 예측 성능 ###\n",
      "오차행렬\n",
      "[[85290     5]\n",
      " [   25   121]]\n",
      "정확도(Accuracy): 0.9996, 정밀도(precision): 0.9603, 재현율(recall): 0.8288, F1(F1_score):0.8897, ROC-AUC: 0.9780\n"
     ]
    }
   ],
   "source": [
    "from lightgbm import LGBMClassifier\n",
    "X_train, X_test, y_train, y_test = get_train_test_dataset(card_df)\n",
    "\n",
    "print(\"### 로지스틱 회귀 예측 성능 ###\")\n",
    "lr_clf = LogisticRegression()\n",
    "get_model_train_eval(lr_clf, feature_train=X_train, feature_test=X_test, target_train=y_train, target_test=y_test)\n",
    "\n",
    "print()\n",
    "print(\"### LightGBM 예측 성능 ###\")\n",
    "lgbm_clf = LGBMClassifier(n_estimators=1000, num_leaves=64, n_jobs=-1, boost_from_average = False)\n",
    "get_model_train_eval(lgbm_clf, feature_train=X_train, feature_test=X_test, target_train=y_train, target_test=y_test)"
   ]
  },
  {
   "cell_type": "markdown",
   "id": "38b0e86c",
   "metadata": {},
   "source": [
    "- 재현율이 크게 증가함"
   ]
  },
  {
   "cell_type": "markdown",
   "id": "a5fdee51",
   "metadata": {},
   "source": [
    "### SMOTE 오버 샘플링 적용 후 모델 학습/예측/평가"
   ]
  },
  {
   "cell_type": "code",
   "execution_count": 21,
   "id": "1c4392ab",
   "metadata": {},
   "outputs": [
    {
     "name": "stdout",
     "output_type": "stream",
     "text": [
      "SMOTE 적용 전 학습용 피쳐/레이블 데이터 세트:  (199362, 29) (199362,) \n",
      "\n",
      "SMOTE 적용 후 학습용 피쳐/레이블 데이터 세트:  (398040, 29) (398040,) \n",
      "\n",
      "SMOTE 적용 후 레이블 값 분포: \n",
      " 0    199020\n",
      "1    199020\n",
      "Name: Class, dtype: int64\n"
     ]
    }
   ],
   "source": [
    "from imblearn.over_sampling import SMOTE\n",
    "\n",
    "smote = SMOTE(random_state = 0)\n",
    "X_train_over, y_train_over = smote.fit_resample(X_train, y_train)\n",
    "print(\"SMOTE 적용 전 학습용 피쳐/레이블 데이터 세트: \", X_train.shape, y_train.shape, \"\\n\")\n",
    "print(\"SMOTE 적용 후 학습용 피쳐/레이블 데이터 세트: \", X_train_over.shape, y_train_over.shape, \"\\n\")\n",
    "print(\"SMOTE 적용 후 레이블 값 분포: \\n\", pd.Series(y_train_over).value_counts())"
   ]
  },
  {
   "cell_type": "code",
   "execution_count": 22,
   "id": "21e30409",
   "metadata": {},
   "outputs": [
    {
     "name": "stdout",
     "output_type": "stream",
     "text": [
      "오차행렬\n",
      "[[82937  2358]\n",
      " [   11   135]]\n",
      "정확도(Accuracy): 0.9723, 정밀도(precision): 0.0542, 재현율(recall): 0.9247, F1(F1_score):0.1023, ROC-AUC: 0.9737\n"
     ]
    }
   ],
   "source": [
    "lr_clf = LogisticRegression()\n",
    "\n",
    "get_model_train_eval(lr_clf, feature_train=X_train_over, feature_test=X_test, target_train=y_train_over, target_test=y_test)"
   ]
  },
  {
   "cell_type": "markdown",
   "id": "9fde283b",
   "metadata": {},
   "source": [
    "- 정밀도가 엄청떨어짐. 실제 데이터보다 많은 Class=1의 데이터를 학습시켜 정밀도가 떨어진것으로 보임"
   ]
  },
  {
   "cell_type": "code",
   "execution_count": 23,
   "id": "00a0f44a",
   "metadata": {},
   "outputs": [],
   "source": [
    "from sklearn.metrics import precision_recall_curve\n",
    "import matplotlib.pyplot as plt\n",
    "import matplotlib.ticker as ticker\n",
    "%matplotlib inline\n",
    "\n",
    "def precision_recall_curve_plot(y_test , pred_proba_c1):\n",
    "    # threshold ndarray와 이 threshold에 따른 정밀도, 재현율 ndarray 추출. \n",
    "    precisions, recalls, thresholds = precision_recall_curve( y_test, pred_proba_c1)\n",
    "    \n",
    "    # X축을 threshold값으로, Y축은 정밀도, 재현율 값으로 각각 Plot 수행. 정밀도는 점선으로 표시\n",
    "    plt.figure(figsize=(8,6))\n",
    "    threshold_boundary = thresholds.shape[0]\n",
    "    plt.plot(thresholds, precisions[0:threshold_boundary], linestyle='--', label='precision')\n",
    "    plt.plot(thresholds, recalls[0:threshold_boundary],label='recall')\n",
    "    \n",
    "    # threshold 값 X 축의 Scale을 0.1 단위로 변경\n",
    "    start, end = plt.xlim()\n",
    "    plt.xticks(np.round(np.arange(start, end, 0.1),2))\n",
    "    \n",
    "    # x축, y축 label과 legend, 그리고 grid 설정\n",
    "    plt.xlabel('Threshold value'); plt.ylabel('Precision and Recall value')\n",
    "    plt.legend(); plt.grid()\n",
    "    plt.show()\n"
   ]
  },
  {
   "cell_type": "code",
   "execution_count": 24,
   "id": "67fc97f4",
   "metadata": {},
   "outputs": [
    {
     "data": {
      "image/png": "[encoded data removed]",
      "text/plain": [
       "<Figure size 576x432 with 1 Axes>"
      ]
     },
     "metadata": {
      "needs_background": "light"
     },
     "output_type": "display_data"
    }
   ],
   "source": [
    "precision_recall_curve_plot(y_test, lr_clf.predict_proba(X_test)[:, 1])"
   ]
  },
  {
   "cell_type": "markdown",
   "id": "75c4e111",
   "metadata": {},
   "source": [
    "### SMOTE LightGBM 모델로 학습"
   ]
  },
  {
   "cell_type": "code",
   "execution_count": 25,
   "id": "8e5f0460",
   "metadata": {},
   "outputs": [
    {
     "name": "stdout",
     "output_type": "stream",
     "text": [
      "오차행렬\n",
      "[[85283    12]\n",
      " [   22   124]]\n",
      "정확도(Accuracy): 0.9996, 정밀도(precision): 0.9118, 재현율(recall): 0.8493, F1(F1_score):0.8794, ROC-AUC: 0.9814\n"
     ]
    }
   ],
   "source": [
    "lgbm_clf = LGBMClassifier(n_estimators=1000, num_leaves=64, n_jobs=-1, boost_from_average=False)\n",
    "get_model_train_eval(lgbm_clf, feature_train=X_train_over, feature_test=X_test, target_train=y_train_over, target_test=y_test)"
   ]
  },
  {
   "cell_type": "code",
   "execution_count": null,
   "id": "933c3e28",
   "metadata": {},
   "outputs": [],
   "source": []
  }
 ],
 "metadata": {
  "kernelspec": {
   "display_name": "machine_learning",
   "language": "python",
   "name": "machine_learning"
  },
  "language_info": {
   "codemirror_mode": {
    "name": "ipython",
    "version": 3
   },
   "file_extension": ".py",
   "mimetype": "text/x-python",
   "name": "python",
   "nbconvert_exporter": "python",
   "pygments_lexer": "ipython3",
   "version": "3.8.9"
  }
 },
 "nbformat": 4,
 "nbformat_minor": 5
}
