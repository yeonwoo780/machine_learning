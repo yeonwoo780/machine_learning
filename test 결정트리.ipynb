{
 "cells": [
  {
   "cell_type": "code",
   "execution_count": null,
   "id": "60330abb",
   "metadata": {},
   "outputs": [],
   "source": [
    "from sklearn.tree import DecisionTreeClassifier\n",
    "from sklearn.model_selection import train_test_split\n",
    "import warnings\n",
    "warnings.filterwarnings('ignore')\n",
    "\n",
    "# DecisionTree Classifier 생성\n",
    "dt_clf = DecisionTreeClassifier(random_state=156)\n",
    "\n",
    "dt_clf.fit(X_train , y_train)"
   ]
  },
  {
   "cell_type": "code",
   "execution_count": null,
   "id": "c95050ee",
   "metadata": {},
   "outputs": [],
   "source": [
    "x_col = []\n",
    "for i in X_adult_df.columns:\n",
    "    x_col.append(i)\n",
    "    \n",
    "x_col    "
   ]
  },
  {
   "cell_type": "code",
   "execution_count": null,
   "id": "5fb23a72",
   "metadata": {},
   "outputs": [],
   "source": [
    "y_adult_df = y_adult_df.reset_index()\n",
    "y_adult_df"
   ]
  },
  {
   "cell_type": "code",
   "execution_count": null,
   "id": "ef771f73",
   "metadata": {},
   "outputs": [],
   "source": [
    "y_adult_df_t = pd.DataFrame([[y_adult_df[y_adult_df['income'] == 0],y_adult_df[y_adult_df['income'] == 1]]],\n",
    "                           columns=['<=50', '>50'])"
   ]
  },
  {
   "cell_type": "code",
   "execution_count": null,
   "id": "d24ea534",
   "metadata": {},
   "outputs": [],
   "source": [
    "y_col = []\n",
    "for i in y_adult_df_t.columns:\n",
    "    y_col.append(i)\n",
    "    \n",
    "y_col = np.array(y_col)\n",
    "y_col"
   ]
  },
  {
   "cell_type": "code",
   "execution_count": null,
   "id": "7f64cb1b",
   "metadata": {},
   "outputs": [],
   "source": [
    "from sklearn.tree import export_graphviz\n",
    "\n",
    "# export_graphviz()의 호출 결과로 out_file로 지정된 tree.dot 파일을 생성함. \n",
    "export_graphviz(dt_clf, out_file=\"tree.dot\",class_names=y_col, \\\n",
    "feature_names = x_col, impurity=True, filled=True)"
   ]
  },
  {
   "cell_type": "code",
   "execution_count": null,
   "id": "cc648891",
   "metadata": {},
   "outputs": [],
   "source": [
    "import graphviz\n",
    "\n",
    "# 위에서 생성된 tree.dot 파일을 Graphviz 읽어서 Jupyter Notebook상에서 시각화 \n",
    "with open(\"tree.dot\") as f:\n",
    "    dot_graph = f.read()\n",
    "graphviz.Source(dot_graph)"
   ]
  },
  {
   "cell_type": "code",
   "execution_count": null,
   "id": "794f57da",
   "metadata": {},
   "outputs": [],
   "source": []
  }
 ],
 "metadata": {
  "kernelspec": {
   "display_name": "Python 3",
   "language": "python",
   "name": "python3"
  },
  "language_info": {
   "codemirror_mode": {
    "name": "ipython",
    "version": 3
   },
   "file_extension": ".py",
   "mimetype": "text/x-python",
   "name": "python",
   "nbconvert_exporter": "python",
   "pygments_lexer": "ipython3",
   "version": "3.8.9"
  }
 },
 "nbformat": 4,
 "nbformat_minor": 5
}
